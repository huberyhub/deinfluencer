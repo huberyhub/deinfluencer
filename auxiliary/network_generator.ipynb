{
 "cells": [
  {
   "cell_type": "markdown",
   "metadata": {},
   "source": [
    "# Graph Generator\n",
    "\n",
    "Generate underlying genertic graphs and save them in network_data"
   ]
  },
  {
   "cell_type": "code",
   "execution_count": 1,
   "metadata": {},
   "outputs": [],
   "source": [
    "import sys\n",
    "\n",
    "sys.path.append('../src')\n",
    "\n",
    "import networkx as nx\n",
    "import exp_env as env\n",
    "import copy\n",
    "import os\n",
    "import pickle\n",
    "import random\n",
    "\n",
    "# Create an undirected Erdős-Rényi graph\n",
    "G = nx.gnm_random_graph(2000, 4000)"
   ]
  },
  {
   "cell_type": "code",
   "execution_count": 4,
   "metadata": {},
   "outputs": [
    {
     "name": "stdout",
     "output_type": "stream",
     "text": [
      "Graph saved successfully to ../network_data/g_er.gpickle\n"
     ]
    }
   ],
   "source": [
    "# For undirected graphs\n",
    "\n",
    "output_dir = '../network_data/'\n",
    "\n",
    "if not os.path.exists(output_dir):\n",
    "    os.makedirs(output_dir)\n",
    "\n",
    "output_file = os.path.join(output_dir, 'g_er.gpickle')\n",
    "\n",
    "# Verify G is a NetworkX graph object\n",
    "if isinstance(G, nx.Graph):\n",
    "    # Write the graph to a gpickle file\n",
    "    try:\n",
    "        with open(output_file, 'wb') as f:\n",
    "            pickle.dump(G, f)\n",
    "        print(f\"Graph saved successfully to {output_file}\")\n",
    "    except Exception as e:\n",
    "        print(f\"Error saving graph: {e}\")\n",
    "else:\n",
    "    print(\"G is not a valid NetworkX graph object\")"
   ]
  },
  {
   "cell_type": "code",
   "execution_count": 2,
   "metadata": {},
   "outputs": [
    {
     "name": "stdout",
     "output_type": "stream",
     "text": [
      "Graph saved successfully to ../network_data/g_er_dir.gpickle\n"
     ]
    }
   ],
   "source": [
    "# For dircted graph\n",
    "\n",
    "# Create an empty directed graph\n",
    "G_dir = nx.DiGraph()\n",
    "\n",
    "# Add nodes to the directed graph\n",
    "G_dir.add_nodes_from(G.nodes())\n",
    "\n",
    "# Add directed edges by randomly assigning directions\n",
    "for u, v in G.edges():\n",
    "    if random.choice([True, False]):\n",
    "        G_dir.add_edge(u, v)\n",
    "    else:\n",
    "        G_dir.add_edge(v, u)\n",
    "\n",
    "# Define the output directory and file path\n",
    "output_dir = '../network_data/'\n",
    "if not os.path.exists(output_dir):\n",
    "    os.makedirs(output_dir)\n",
    "\n",
    "output_file = os.path.join(output_dir, 'g_er_dir.gpickle')\n",
    "\n",
    "# Verify G_er_directed is a NetworkX DiGraph object\n",
    "if isinstance(G_dir, nx.DiGraph):\n",
    "    # Write the directed graph to a gpickle file\n",
    "    try:\n",
    "        with open(output_file, 'wb') as f:\n",
    "            pickle.dump(G_dir, f)\n",
    "        print(f\"Graph saved successfully to {output_file}\")\n",
    "    except Exception as e:\n",
    "        print(f\"Error saving graph: {e}\")\n",
    "else:\n",
    "    print(\"G_dir is not a valid NetworkX DiGraph object\")"
   ]
  }
 ],
 "metadata": {
  "kernelspec": {
   "display_name": "base",
   "language": "python",
   "name": "python3"
  },
  "language_info": {
   "codemirror_mode": {
    "name": "ipython",
    "version": 3
   },
   "file_extension": ".py",
   "mimetype": "text/x-python",
   "name": "python",
   "nbconvert_exporter": "python",
   "pygments_lexer": "ipython3",
   "version": "3.11.7"
  }
 },
 "nbformat": 4,
 "nbformat_minor": 2
}

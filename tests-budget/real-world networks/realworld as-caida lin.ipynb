{
 "cells": [
  {
   "cell_type": "markdown",
   "metadata": {},
   "source": [
    "## This is a template for testing out the dynamics of a real-world networks under the budget condition"
   ]
  },
  {
   "cell_type": "code",
   "execution_count": 5,
   "metadata": {},
   "outputs": [],
   "source": [
    "import sys\n",
    "import os\n",
    "sys.path.append('../../src')\n",
    "import networkx as nx\n",
    "import exp_env as env\n",
    "import copy\n",
    "import pickle"
   ]
  },
  {
   "cell_type": "code",
   "execution_count": 6,
   "metadata": {},
   "outputs": [
    {
     "name": "stdout",
     "output_type": "stream",
     "text": [
      "Graph loaded from ../../network_data/as-caida.gpickle\n"
     ]
    }
   ],
   "source": [
    "parent_dir = os.path.abspath(os.path.join(os.getcwd(), os.pardir))\n",
    "model_code_dir = os.path.join(parent_dir, 'src')\n",
    "if model_code_dir not in sys.path:\n",
    "    sys.path.append(model_code_dir)\n",
    "\n",
    "# Load the graph from the file\n",
    "\n",
    "# other networks:\n",
    "# save_path = '../../network_data/facebook.gpickle'\n",
    "# save_path = '../../network_data/wikivote.gpickle'\n",
    "save_path = '../../network_data/as-caida.gpickle'\n",
    "\n",
    "try:\n",
    "    with open(save_path, 'rb') as f:\n",
    "        G = pickle.load(f)\n",
    "    print(f\"Graph loaded from {save_path}\")\n",
    "except Exception as e:\n",
    "    print(f\"An error occurred while loading the graph: {e}\")"
   ]
  },
  {
   "cell_type": "code",
   "execution_count": 7,
   "metadata": {},
   "outputs": [
    {
     "name": "stdout",
     "output_type": "stream",
     "text": [
      "Number of influenced nodes: 12625\n",
      "Number of deinfluenced nodes: 0\n",
      "Number of susceptible nodes: 13850\n",
      "influencer {18697, 6537, 35730, 24346, 32411, 34858, 38188, 4783, 42043, 12485, 26188, 21713, 42065, 7910, 39020, 9965, 36464, 8692, 20343, 10105}\n"
     ]
    }
   ],
   "source": [
    "model = env.run_influence_cascade(G, num_influencers=20, steps=3, selection_method='random')\n",
    "\n",
    "# Evaluate the influence and deinfluence\n",
    "num_influenced = model.evaluate_influence()\n",
    "num_deinfluenced = model.evaluate_deinfluence()\n",
    "num_susceptible = model.evaluate_susceptible()\n",
    "\n",
    "# Create a deep copy of the model\n",
    "model_fixed_influencers = copy.deepcopy(model)\n",
    "\n",
    "# Evaluate the influence and deinfluence\n",
    "num_influenced = model_fixed_influencers.evaluate_influence()\n",
    "num_deinfluenced = model_fixed_influencers.evaluate_deinfluence()\n",
    "num_susceptible = model_fixed_influencers.evaluate_susceptible()\n",
    "\n",
    "print(f\"Number of influenced nodes: {num_influenced}\")\n",
    "print(f\"Number of deinfluenced nodes: {num_deinfluenced}\")\n",
    "print(f\"Number of susceptible nodes: {num_susceptible}\")\n",
    "print('influencer', model.selected_influencers)"
   ]
  },
  {
   "cell_type": "markdown",
   "metadata": {},
   "source": [
    "### Cascade Step = 3"
   ]
  },
  {
   "cell_type": "code",
   "execution_count": null,
   "metadata": {},
   "outputs": [],
   "source": [
    "budget_list = list(range(1, 201))\n",
    "deinfluencers_list = env.select_deinfluencers_budget(budget_list, model_fixed_influencers,'budget_linear')\n",
    "results = env.average_results_simple(deinfluencers_list, model_fixed_influencers, num_runs=3, steps=3)\n",
    "env.plot_deinfluencer_results_exp2(results, G)"
   ]
  }
 ],
 "metadata": {
  "kernelspec": {
   "display_name": "base",
   "language": "python",
   "name": "python3"
  },
  "language_info": {
   "codemirror_mode": {
    "name": "ipython",
    "version": 3
   },
   "file_extension": ".py",
   "mimetype": "text/x-python",
   "name": "python",
   "nbconvert_exporter": "python",
   "pygments_lexer": "ipython3",
   "version": "3.11.7"
  }
 },
 "nbformat": 4,
 "nbformat_minor": 2
}

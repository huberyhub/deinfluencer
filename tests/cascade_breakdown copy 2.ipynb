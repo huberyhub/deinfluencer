{
 "cells": [
  {
   "cell_type": "code",
   "execution_count": 1,
   "metadata": {},
   "outputs": [
    {
     "name": "stdout",
     "output_type": "stream",
     "text": [
      "Modules imported successfully\n"
     ]
    }
   ],
   "source": [
    "import sys\n",
    "import os\n",
    "\n",
    "# Get the parent directory of the current working directory\n",
    "parent_dir = os.path.abspath(os.path.join(os.getcwd(), os.pardir))\n",
    "\n",
    "# Construct the path to the 'model_code' directory\n",
    "model_code_dir = os.path.join(parent_dir, 'src')\n",
    "\n",
    "# Append this path to sys.path if it's not already included\n",
    "if model_code_dir not in sys.path:\n",
    "    sys.path.append(model_code_dir)\n",
    "\n",
    "# Now you can import your module\n",
    "import networkx as nx\n",
    "import exp_env as env\n",
    "import copy\n",
    "import pickle\n",
    "\n",
    "# Example usage\n",
    "print(\"Modules imported successfully\")"
   ]
  },
  {
   "cell_type": "code",
   "execution_count": 7,
   "metadata": {},
   "outputs": [
    {
     "name": "stdout",
     "output_type": "stream",
     "text": [
      "Graph loaded successfully\n",
      "DiGraph with 2000 nodes and 3996 edges\n"
     ]
    }
   ],
   "source": [
    "# Define the path to the gpickle file\n",
    "input_file = '/Users/huberyhu/Desktop/Complex Systems 2025/deinfluencer/network_data/g_ba_dir.gpickle'\n",
    "\n",
    "# Load the graph from the gpickle file\n",
    "try:\n",
    "    with open(input_file, 'rb') as f:\n",
    "        G = pickle.load(f)\n",
    "    print(\"Graph loaded successfully\")\n",
    "except Exception as e:\n",
    "    print(f\"Error loading graph: {e}\")\n",
    "\n",
    "# Verify the loaded graph\n",
    "print(G)"
   ]
  },
  {
   "cell_type": "code",
   "execution_count": 7,
   "metadata": {},
   "outputs": [
    {
     "ename": "NameError",
     "evalue": "name 'influencers_cascade_steps' is not defined",
     "output_type": "error",
     "traceback": [
      "\u001b[0;31m---------------------------------------------------------------------------\u001b[0m",
      "\u001b[0;31mNameError\u001b[0m                                 Traceback (most recent call last)",
      "Cell \u001b[0;32mIn[7], line 4\u001b[0m\n\u001b[1;32m      1\u001b[0m num_influencers \u001b[38;5;241m=\u001b[39m \u001b[38;5;241m10\u001b[39m\n\u001b[1;32m      2\u001b[0m nfluencers_cascade_steps \u001b[38;5;241m=\u001b[39m \u001b[38;5;241m3\u001b[39m\n\u001b[0;32m----> 4\u001b[0m model \u001b[38;5;241m=\u001b[39m ef\u001b[38;5;241m.\u001b[39mrun_influence_cascade(G, num_influencers\u001b[38;5;241m=\u001b[39mnum_influencers, steps\u001b[38;5;241m=\u001b[39minfluencers_cascade_steps, selection_method\u001b[38;5;241m=\u001b[39m\u001b[38;5;124m'\u001b[39m\u001b[38;5;124mrandom\u001b[39m\u001b[38;5;124m'\u001b[39m)\n\u001b[1;32m      5\u001b[0m num_edges \u001b[38;5;241m=\u001b[39m G\u001b[38;5;241m.\u001b[39mnumber_of_edges()\n\u001b[1;32m      7\u001b[0m \u001b[38;5;66;03m# Evaluate the influence and deinfluence\u001b[39;00m\n",
      "\u001b[0;31mNameError\u001b[0m: name 'influencers_cascade_steps' is not defined"
     ]
    }
   ],
   "source": [
    "num_influencers = 10\n",
    "influencers_cascade_steps = 3\n",
    "\n",
    "model = env.run_influence_cascade(G, num_influencers=num_influencers, steps=influencers_cascade_steps, selection_method='random')\n",
    "num_edges = G.number_of_edges()\n",
    "\n",
    "# Evaluate the influence and deinfluence\n",
    "num_influenced = model.evaluate_influence()\n",
    "num_deinfluenced = model.evaluate_deinfluence()\n",
    "num_susceptible = model.evaluate_susceptible()\n",
    "\n",
    "# Create a deep copy of the model\n",
    "model_fixed_influencers = copy.deepcopy(model)\n",
    "\n",
    "# Evaluate the influence and deinfluence\n",
    "num_influenced = model_fixed_influencers.evaluate_influence()\n",
    "num_deinfluenced = model_fixed_influencers.evaluate_deinfluence()\n",
    "num_susceptible = model_fixed_influencers.evaluate_susceptible()\n",
    "\n",
    "print(f\"Number of influenced nodes: {num_influenced}\")\n",
    "print(f\"Number of deinfluenced nodes: {num_deinfluenced}\")\n",
    "print(f\"Number of susceptible nodes: {num_susceptible}\")\n",
    "print('influencer', model.selected_influencers)"
   ]
  },
  {
   "cell_type": "code",
   "execution_count": 5,
   "metadata": {},
   "outputs": [
    {
     "ename": "NameError",
     "evalue": "name 'model_fixed_influencers' is not defined",
     "output_type": "error",
     "traceback": [
      "\u001b[0;31m---------------------------------------------------------------------------\u001b[0m",
      "\u001b[0;31mNameError\u001b[0m                                 Traceback (most recent call last)",
      "Cell \u001b[0;32mIn[5], line 2\u001b[0m\n\u001b[1;32m      1\u001b[0m \u001b[38;5;66;03m# Run the cascade and record the results\u001b[39;00m\n\u001b[0;32m----> 2\u001b[0m influencer_counts, deinfluencer_counts, susceptible_counts \u001b[38;5;241m=\u001b[39m ef\u001b[38;5;241m.\u001b[39mrun_cascade_with_recording(model_fixed_influencers, num_deinfluencers\u001b[38;5;241m=\u001b[39m\u001b[38;5;241m100\u001b[39m, steps \u001b[38;5;241m=\u001b[39m \u001b[38;5;241m10\u001b[39m)\n\u001b[1;32m      4\u001b[0m \u001b[38;5;66;03m# Plot the results\u001b[39;00m\n\u001b[1;32m      5\u001b[0m ef\u001b[38;5;241m.\u001b[39mplot_cascade_results_set(influencer_counts, deinfluencer_counts, susceptible_counts)\n",
      "\u001b[0;31mNameError\u001b[0m: name 'model_fixed_influencers' is not defined"
     ]
    }
   ],
   "source": [
    "# Run the cascade and record the results\n",
    "influencer_counts, deinfluencer_counts, susceptible_counts = env.run_cascade_with_recording(model_fixed_influencers, num_deinfluencers=100, steps = 10)\n",
    "\n",
    "# Plot the results\n",
    "env.plot_cascade_results_set(influencer_counts, deinfluencer_counts, susceptible_counts)"
   ]
  }
 ],
 "metadata": {
  "kernelspec": {
   "display_name": "base",
   "language": "python",
   "name": "python3"
  },
  "language_info": {
   "codemirror_mode": {
    "name": "ipython",
    "version": 3
   },
   "file_extension": ".py",
   "mimetype": "text/x-python",
   "name": "python",
   "nbconvert_exporter": "python",
   "pygments_lexer": "ipython3",
   "version": "3.11.7"
  }
 },
 "nbformat": 4,
 "nbformat_minor": 2
}
